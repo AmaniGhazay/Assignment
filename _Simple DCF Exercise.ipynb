{
 "cells": [
  {
   "cell_type": "code",
   "execution_count": 1,
   "id": "59f6d5bb-b638-40dd-848e-19a7f89d7da6",
   "metadata": {},
   "outputs": [],
   "source": [
    "import pandas"
   ]
  },
  {
   "cell_type": "code",
   "execution_count": 2,
   "id": "6926f681-94f0-4d89-87d4-1ea07390965f",
   "metadata": {},
   "outputs": [],
   "source": [
    "#model Parameters\n",
    "growth_factor= 0.18\n",
    "EBITDA_margin = 0.45\n",
    "tax_pct = 0.21\n",
    "cap_ex = 0.03\n",
    "work_cap_growth = 0.06\n",
    "discount_factor = 0.94\n",
    "exit_multiple = 32.70"
   ]
  },
  {
   "cell_type": "code",
   "execution_count": 3,
   "id": "41a528e8-8e25-4d77-b8a9-70b57bfac119",
   "metadata": {},
   "outputs": [
    {
     "data": {
      "text/plain": [
       "DatetimeIndex(['2022-12-31', '2023-12-31', '2024-12-31', '2025-12-31',\n",
       "               '2026-12-31', '2027-12-31', '2028-12-31', '2029-12-31',\n",
       "               '2030-12-31', '2031-12-31'],\n",
       "              dtype='datetime64[ns]', freq='A-DEC')"
      ]
     },
     "execution_count": 3,
     "metadata": {},
     "output_type": "execute_result"
    }
   ],
   "source": [
    "dates = pandas.date_range(start='2022', end = '2032' , freq='Y')\n",
    "dates"
   ]
  },
  {
   "cell_type": "code",
   "execution_count": 4,
   "id": "0624d09f-f66f-4635-b7ed-dba90223e511",
   "metadata": {},
   "outputs": [
    {
     "data": {
      "text/html": [
       "<div>\n",
       "<style scoped>\n",
       "    .dataframe tbody tr th:only-of-type {\n",
       "        vertical-align: middle;\n",
       "    }\n",
       "\n",
       "    .dataframe tbody tr th {\n",
       "        vertical-align: top;\n",
       "    }\n",
       "\n",
       "    .dataframe thead th {\n",
       "        text-align: right;\n",
       "    }\n",
       "</style>\n",
       "<table border=\"1\" class=\"dataframe\">\n",
       "  <thead>\n",
       "    <tr style=\"text-align: right;\">\n",
       "      <th></th>\n",
       "    </tr>\n",
       "  </thead>\n",
       "  <tbody>\n",
       "    <tr>\n",
       "      <th>2022-12-31</th>\n",
       "    </tr>\n",
       "    <tr>\n",
       "      <th>2023-12-31</th>\n",
       "    </tr>\n",
       "    <tr>\n",
       "      <th>2024-12-31</th>\n",
       "    </tr>\n",
       "    <tr>\n",
       "      <th>2025-12-31</th>\n",
       "    </tr>\n",
       "    <tr>\n",
       "      <th>2026-12-31</th>\n",
       "    </tr>\n",
       "    <tr>\n",
       "      <th>2027-12-31</th>\n",
       "    </tr>\n",
       "    <tr>\n",
       "      <th>2028-12-31</th>\n",
       "    </tr>\n",
       "    <tr>\n",
       "      <th>2029-12-31</th>\n",
       "    </tr>\n",
       "    <tr>\n",
       "      <th>2030-12-31</th>\n",
       "    </tr>\n",
       "    <tr>\n",
       "      <th>2031-12-31</th>\n",
       "    </tr>\n",
       "  </tbody>\n",
       "</table>\n",
       "</div>"
      ],
      "text/plain": [
       "Empty DataFrame\n",
       "Columns: []\n",
       "Index: [2022-12-31 00:00:00, 2023-12-31 00:00:00, 2024-12-31 00:00:00, 2025-12-31 00:00:00, 2026-12-31 00:00:00, 2027-12-31 00:00:00, 2028-12-31 00:00:00, 2029-12-31 00:00:00, 2030-12-31 00:00:00, 2031-12-31 00:00:00]"
      ]
     },
     "execution_count": 4,
     "metadata": {},
     "output_type": "execute_result"
    }
   ],
   "source": [
    "model_df=pandas.DataFrame(index=dates)\n",
    "terminal_value_df=pandas.DataFrame()\n",
    "model_df"
   ]
  },
  {
   "cell_type": "code",
   "execution_count": 5,
   "id": "f5eae8a6-e69a-458f-a1d0-5daddc439246",
   "metadata": {},
   "outputs": [],
   "source": [
    "#Rev Growth\n",
    "\n",
    "start_rev = 222\n",
    "\n",
    "rev_projection = [start_rev * growth_factor]\n",
    "for i in range (1,len(dates)):\n",
    "    rev_projection.append(rev_projection[i-1]*growth_factor)\n",
    "model_df['revenue']  = rev_projection"
   ]
  },
  {
   "cell_type": "code",
   "execution_count": 6,
   "id": "0d78fb5b-50da-48a1-b0b7-c421f263d660",
   "metadata": {},
   "outputs": [],
   "source": [
    "model_df['EBITDA'] = model_df['revenue']*EBITDA_margin"
   ]
  },
  {
   "cell_type": "code",
   "execution_count": 7,
   "id": "6d2bb4a3-71c2-4230-b9e3-ac79f2766e7c",
   "metadata": {},
   "outputs": [],
   "source": [
    "model_df['taxes'] = model_df['EBITDA']* - tax_pct"
   ]
  },
  {
   "cell_type": "code",
   "execution_count": 8,
   "id": "bf02804b-5d36-4409-a51f-3ff8f68c309c",
   "metadata": {},
   "outputs": [],
   "source": [
    "model_df['cap_ex'] = model_df['revenue']* - cap_ex"
   ]
  },
  {
   "cell_type": "code",
   "execution_count": 9,
   "id": "f92c5a7e-8386-4acd-b4a8-2a8a20d57e99",
   "metadata": {},
   "outputs": [],
   "source": [
    "model_df['work_cap'] = model_df['revenue']* - work_cap_growth\n"
   ]
  },
  {
   "cell_type": "code",
   "execution_count": 10,
   "id": "49aad5eb-2975-4104-8e00-4168a355e821",
   "metadata": {},
   "outputs": [],
   "source": [
    "model_df['cash_flow'] = model_df.drop(columns=['revenue']).sum(axis=1)"
   ]
  },
  {
   "cell_type": "code",
   "execution_count": 11,
   "id": "70eb8999-cef4-4283-bab9-ba9480dc2287",
   "metadata": {},
   "outputs": [
    {
     "data": {
      "text/plain": [
       "array([9.97281720e+00, 1.68740067e+00, 2.85508193e-01, 4.83079863e-02,\n",
       "       8.17371129e-03, 1.38299195e-03, 2.34002238e-04, 3.95931786e-05,\n",
       "       6.69916583e-06, 1.13349886e-06])"
      ]
     },
     "execution_count": 11,
     "metadata": {},
     "output_type": "execute_result"
    }
   ],
   "source": [
    "discount_factors=[discount_factor**i for i in range (1,len(dates)+1)]\n",
    "discount_factors*model_df['cash_flow'].values"
   ]
  },
  {
   "cell_type": "code",
   "execution_count": 12,
   "id": "f7ea1808-20c8-4ef9-bf2c-b9926b7206ba",
   "metadata": {},
   "outputs": [],
   "source": [
    "discount_factors=[discount_factor**i for i in range (1,len(dates)+1)]\n",
    "discount_table=pandas.DataFrame(index=discount_factors)\n",
    "discount_table['present_value_fcf'] = discount_factors*model_df['cash_flow'].values "
   ]
  },
  {
   "cell_type": "code",
   "execution_count": 13,
   "id": "d62fe34b-aa1e-4d38-a44c-6f4e17510d8d",
   "metadata": {},
   "outputs": [
    {
     "data": {
      "text/plain": [
       "12.003872181285496"
      ]
     },
     "execution_count": 13,
     "metadata": {},
     "output_type": "execute_result"
    }
   ],
   "source": [
    "present_value_of_projected_fcf = discount_table['present_value_fcf']. sum()\n",
    "present_value_of_projected_fcf"
   ]
  },
  {
   "cell_type": "code",
   "execution_count": 14,
   "id": "1aadd516-0096-4abd-a759-2a166ae201ed",
   "metadata": {},
   "outputs": [],
   "source": [
    "terminal_frame = pandas.DataFrame(index=['2032'])\n",
    "terminal_frame['revenue'] = model_df['revenue'].iloc[-1]*growth_factor\n",
    "terminal_frame['EBITDA' ] = terminal_frame['revenue']*EBITDA_margin \n"
   ]
  },
  {
   "cell_type": "code",
   "execution_count": 15,
   "id": "0fe3e6b0-9f93-4b20-b605-47210eac84be",
   "metadata": {},
   "outputs": [
    {
     "data": {
      "text/plain": [
       "2032    0.0\n",
       "Name: terminal_valuation, dtype: float64"
      ]
     },
     "execution_count": 15,
     "metadata": {},
     "output_type": "execute_result"
    }
   ],
   "source": [
    "terminal_frame['terminal_valuation']=terminal_frame['EBITDA']*exit_multiple\n",
    "terminal_frame['terminal_valuation'].round(0)"
   ]
  },
  {
   "cell_type": "code",
   "execution_count": 17,
   "id": "cda82973-0c61-4264-a6b3-1b7acc5e8142",
   "metadata": {},
   "outputs": [
    {
     "data": {
      "text/plain": [
       "2032    0.000001\n",
       "Name: revenue, dtype: float64"
      ]
     },
     "execution_count": 17,
     "metadata": {},
     "output_type": "execute_result"
    }
   ],
   "source": [
    "terminal_frame['revenue']\n",
    "\n"
   ]
  },
  {
   "cell_type": "code",
   "execution_count": 18,
   "id": "89b71c49-548f-4cfd-8a85-e05ee9ab8712",
   "metadata": {},
   "outputs": [
    {
     "data": {
      "text/plain": [
       "2032    6.420414e-07\n",
       "Name: EBITDA, dtype: float64"
      ]
     },
     "execution_count": 18,
     "metadata": {},
     "output_type": "execute_result"
    }
   ],
   "source": [
    "terminal_frame['EBITDA'] "
   ]
  },
  {
   "cell_type": "markdown",
   "id": "3148e2bb-2dbc-4dd2-b7c1-ac02a2c14afb",
   "metadata": {},
   "source": [
    "\"Our projected Present Value of Projected Future Cash Flows are:12.\n",
    "\n",
    "\n",
    "We are providing revenue guidance in 2032 to be:  0.000001.\n",
    "\n",
    "\n",
    "With an estimated EBITDA around:6.420414e-07.\n"
   ]
  },
  {
   "cell_type": "code",
   "execution_count": null,
   "id": "11534e03-963b-4ccf-a918-8ae46b6b1b24",
   "metadata": {},
   "outputs": [],
   "source": []
  }
 ],
 "metadata": {
  "kernelspec": {
   "display_name": "Python 3",
   "language": "python",
   "name": "python3"
  },
  "language_info": {
   "codemirror_mode": {
    "name": "ipython",
    "version": 3
   },
   "file_extension": ".py",
   "mimetype": "text/x-python",
   "name": "python",
   "nbconvert_exporter": "python",
   "pygments_lexer": "ipython3",
   "version": "3.8.8"
  }
 },
 "nbformat": 4,
 "nbformat_minor": 5
}
